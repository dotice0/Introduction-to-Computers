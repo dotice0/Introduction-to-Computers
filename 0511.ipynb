{
  "nbformat": 4,
  "nbformat_minor": 0,
  "metadata": {
    "colab": {
      "name": "0511.ipynb",
      "provenance": [],
      "authorship_tag": "ABX9TyPdimTWF/NG22YTdJM4uVQW",
      "include_colab_link": true
    },
    "kernelspec": {
      "name": "python3",
      "display_name": "Python 3"
    },
    "language_info": {
      "name": "python"
    }
  },
  "cells": [
    {
      "cell_type": "markdown",
      "metadata": {
        "id": "view-in-github",
        "colab_type": "text"
      },
      "source": [
        "<a href=\"https://colab.research.google.com/github/dotice0/Introduction-to-Computers/blob/main/0511.ipynb\" target=\"_parent\"><img src=\"https://colab.research.google.com/assets/colab-badge.svg\" alt=\"Open In Colab\"/></a>"
      ]
    },
    {
      "cell_type": "code",
      "execution_count": 1,
      "metadata": {
        "colab": {
          "base_uri": "https://localhost:8080/"
        },
        "id": "tEspvfMRsVTC",
        "outputId": "07af82a7-5de9-4867-cb2b-58b7347934d4"
      },
      "outputs": [
        {
          "output_type": "stream",
          "name": "stdout",
          "text": [
            "test\n"
          ]
        }
      ],
      "source": [
        "print(\"test\")"
      ]
    },
    {
      "cell_type": "code",
      "source": [
        "體溫=float(input(\"請輸入您的體溫:\"))\n",
        "if(體溫>=37.5):\n",
        "    print(\"體溫過高!\")\n",
        "elif(體溫>=37 and 體溫<=37.4):\n",
        "    print(\"體溫略高!\")\n",
        "elif(體溫>=34 and 體溫<=36.9):\n",
        "    print(\"體溫正常!\")\n",
        "else:\n",
        "    print(\"體溫異常,請重新量測!\")"
      ],
      "metadata": {
        "colab": {
          "base_uri": "https://localhost:8080/"
        },
        "id": "yaUTVFUSsgvT",
        "outputId": "a0927f9c-142f-45c9-dcda-43463ff7c816"
      },
      "execution_count": 4,
      "outputs": [
        {
          "output_type": "stream",
          "name": "stdout",
          "text": [
            "請輸入您的體溫37.5\n",
            "體溫過高!\n"
          ]
        }
      ]
    },
    {
      "cell_type": "code",
      "source": [
        "money=int(input(\"請輸入購物金額:\"))\n",
        "if(money>=10000):\n",
        "  if(money>=100000):\n",
        "    print(\"打8折,您的結帳金額為:\",money*0.8,end= \"元\\n\")\n",
        "  elif(money>=50000):\n",
        "    print(\"打85折,您的結帳金額為:\",money*0.85,end= \"元\\n\")\n",
        "  elif(money>=30000):\n",
        "    print(\"打9折,您的結帳金額為:\",money*0.9,end= \"元\\n\")\n",
        "  else:\n",
        "    print(\"打95折,您的結帳金額為:\",money*0.95,end= \"元\\n\")\n",
        "else:\n",
        "  print(\"沒打折,您的結帳金額為:\",money,end= \"元\\n\")"
      ],
      "metadata": {
        "colab": {
          "base_uri": "https://localhost:8080/"
        },
        "id": "jvTRr-H3wEre",
        "outputId": "99de8387-27c9-41bd-af8d-aa4070a0405d"
      },
      "execution_count": 9,
      "outputs": [
        {
          "output_type": "stream",
          "name": "stdout",
          "text": [
            "請輸入購物金額:50000\n",
            "打85折,您的結帳金額為: 42500.0元\n"
          ]
        }
      ]
    },
    {
      "cell_type": "code",
      "source": [
        "grade=int(input(\"請輸入您的成績:\"))\n",
        "if(grade>=60):\n",
        "  if(grade>=90):\n",
        "    print(\"A\")\n",
        "  elif(grade>=80):\n",
        "    print(\"B\")\n",
        "  elif(grade>=70):\n",
        "    print(\"C\")\n",
        "  else:\n",
        "    print(\"D\")\n",
        "else:\n",
        "  print(\"E\")"
      ],
      "metadata": {
        "colab": {
          "base_uri": "https://localhost:8080/"
        },
        "id": "C9d0Jve6zzoT",
        "outputId": "d57d4215-ad86-49ab-b5a3-d9c76a93484d"
      },
      "execution_count": 14,
      "outputs": [
        {
          "output_type": "stream",
          "name": "stdout",
          "text": [
            "請輸入您的成績:98\n",
            "A\n"
          ]
        }
      ]
    },
    {
      "cell_type": "code",
      "source": [
        "month=int(input(\"請輸入月份:\"))\n",
        "if(month==3 or month==4 or month==5):\n",
        "  print(month,\"月是春天!\")\n",
        "elif(month==6 or month==7 or month==8):\n",
        "  print(month,\"月是夏天!\")\n",
        "elif(month==9 or month==10 or month==11):\n",
        "  print(month,\"月是秋天!\")\n",
        "elif(month==12 or month==1 or month==2):\n",
        "  print(month,\"月是冬天!\")\n",
        "else:\n",
        "  print(\"月份不在範圍內\")"
      ],
      "metadata": {
        "colab": {
          "base_uri": "https://localhost:8080/"
        },
        "id": "Qq1c_NrN1_eC",
        "outputId": "054e9ec9-a172-4e7b-e6f6-08e6fab20a3d"
      },
      "execution_count": 31,
      "outputs": [
        {
          "output_type": "stream",
          "name": "stdout",
          "text": [
            "請輸入月份:1\n",
            "1 月是冬天!\n"
          ]
        }
      ]
    },
    {
      "cell_type": "code",
      "source": [
        "tax=int(input(\"請輸入今年收入淨額:\"))\n",
        "if(tax>=300000):\n",
        "  if(tax>=2000000):\n",
        "    print(\"付稅金額為:\",tax*0.3,end= \"元\\n\")\n",
        "  elif(tax>=1000000):\n",
        "    print(\"付稅金額為:\",tax*0.21,end= \"元\\n\")\n",
        "  elif(tax>=600000):\n",
        "    print(\"付稅金額為:\",tax*0.13,end= \"元\\n\")\n",
        "  else:\n",
        "    print(\"付稅金額為:\",tax*0.06,end= \"元\\n\")\n",
        "else:\n",
        "  print(\"付稅金額為:\",0,end= \"元\\n\")"
      ],
      "metadata": {
        "colab": {
          "base_uri": "https://localhost:8080/"
        },
        "id": "qj2TwABr2uQ_",
        "outputId": "7a3b8895-8a91-4c2a-e3d8-d6aa8a548425"
      },
      "execution_count": 41,
      "outputs": [
        {
          "output_type": "stream",
          "name": "stdout",
          "text": [
            "請輸入今年收入淨額:100000\n",
            "付稅金額為: 0元\n"
          ]
        }
      ]
    },
    {
      "cell_type": "code",
      "source": [
        ""
      ],
      "metadata": {
        "id": "DHKx1LqT5h6w"
      },
      "execution_count": null,
      "outputs": []
    }
  ]
}