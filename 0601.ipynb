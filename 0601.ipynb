{
  "nbformat": 4,
  "nbformat_minor": 0,
  "metadata": {
    "colab": {
      "name": "0601.ipynb",
      "provenance": [],
      "authorship_tag": "ABX9TyPquqLsQ3BRP1qOuGN6HM51",
      "include_colab_link": true
    },
    "kernelspec": {
      "name": "python3",
      "display_name": "Python 3"
    },
    "language_info": {
      "name": "python"
    }
  },
  "cells": [
    {
      "cell_type": "markdown",
      "metadata": {
        "id": "view-in-github",
        "colab_type": "text"
      },
      "source": [
        "<a href=\"https://colab.research.google.com/github/dotice0/Introduction-to-Computers/blob/main/0601.ipynb\" target=\"_parent\"><img src=\"https://colab.research.google.com/assets/colab-badge.svg\" alt=\"Open In Colab\"/></a>"
      ]
    },
    {
      "cell_type": "code",
      "execution_count": null,
      "metadata": {
        "colab": {
          "base_uri": "https://localhost:8080/"
        },
        "id": "TKCrqI_dzjvO",
        "outputId": "ed1ab712-96fb-4682-a844-a2a9fe855e0c"
      },
      "outputs": [
        {
          "output_type": "stream",
          "name": "stdout",
          "text": [
            "55\n"
          ]
        }
      ],
      "source": [
        "total = n = 0\n",
        "while (n < 10):\n",
        "  n += 1\n",
        "  total += n\n",
        "print(total) #1+2+3+4+5+6+7+8+9+10=55"
      ]
    },
    {
      "cell_type": "code",
      "source": [
        "total = n = 0\n",
        "while n <= 10 :\n",
        "  total += n\n",
        "  n += 1\n",
        "print(total)"
      ],
      "metadata": {
        "colab": {
          "base_uri": "https://localhost:8080/"
        },
        "id": "NupP6kBodx-5",
        "outputId": "7e083383-4968-4cf7-f723-5937cc795362"
      },
      "execution_count": null,
      "outputs": [
        {
          "output_type": "stream",
          "name": "stdout",
          "text": [
            "55\n"
          ]
        }
      ]
    },
    {
      "cell_type": "code",
      "source": [
        "total = n = 0\n",
        "while n <= 10 :\n",
        "  total += n\n",
        "  n += 1\n",
        "print(total)"
      ],
      "metadata": {
        "colab": {
          "base_uri": "https://localhost:8080/"
        },
        "id": "N_eXS8u70rJi",
        "outputId": "d9ed4cbb-8c80-445d-99f8-1b46474615d2"
      },
      "execution_count": null,
      "outputs": [
        {
          "output_type": "stream",
          "name": "stdout",
          "text": [
            "55\n"
          ]
        }
      ]
    },
    {
      "cell_type": "code",
      "source": [
        "total = n = 0\n",
        "while n <= 10 :\n",
        "  total += n\n",
        "print(total)"
      ],
      "metadata": {
        "colab": {
          "base_uri": "https://localhost:8080/",
          "height": 219
        },
        "id": "aIvrcNbJdnOi",
        "outputId": "5ec9e892-6af3-4e69-f2e5-806b135a463d"
      },
      "execution_count": null,
      "outputs": [
        {
          "output_type": "error",
          "ename": "KeyboardInterrupt",
          "evalue": "ignored",
          "traceback": [
            "\u001b[0;31m---------------------------------------------------------------------------\u001b[0m",
            "\u001b[0;31mKeyboardInterrupt\u001b[0m                         Traceback (most recent call last)",
            "\u001b[0;32m<ipython-input-3-87d217c4213f>\u001b[0m in \u001b[0;36m<module>\u001b[0;34m()\u001b[0m\n\u001b[1;32m      1\u001b[0m \u001b[0mtotal\u001b[0m \u001b[0;34m=\u001b[0m \u001b[0mn\u001b[0m \u001b[0;34m=\u001b[0m \u001b[0;36m0\u001b[0m\u001b[0;34m\u001b[0m\u001b[0;34m\u001b[0m\u001b[0m\n\u001b[1;32m      2\u001b[0m \u001b[0;32mwhile\u001b[0m \u001b[0mn\u001b[0m \u001b[0;34m<=\u001b[0m \u001b[0;36m10\u001b[0m \u001b[0;34m:\u001b[0m\u001b[0;34m\u001b[0m\u001b[0;34m\u001b[0m\u001b[0m\n\u001b[0;32m----> 3\u001b[0;31m   \u001b[0mtotal\u001b[0m \u001b[0;34m+=\u001b[0m \u001b[0mn\u001b[0m\u001b[0;34m\u001b[0m\u001b[0;34m\u001b[0m\u001b[0m\n\u001b[0m\u001b[1;32m      4\u001b[0m \u001b[0mprint\u001b[0m\u001b[0;34m(\u001b[0m\u001b[0mtotal\u001b[0m\u001b[0;34m)\u001b[0m\u001b[0;34m\u001b[0m\u001b[0;34m\u001b[0m\u001b[0m\n",
            "\u001b[0;31mKeyboardInterrupt\u001b[0m: "
          ]
        }
      ]
    },
    {
      "cell_type": "code",
      "source": [
        "total = i = 1\n",
        "n = int(input(\"請輸入一個正整數n:\"))\n",
        "while i <= n :\n",
        "  total *= i\n",
        "  i += 1\n",
        "print(\"%d!=%d\" %(n , total))"
      ],
      "metadata": {
        "colab": {
          "base_uri": "https://localhost:8080/"
        },
        "id": "AXxbrqGRdqgc",
        "outputId": "f936530e-e76e-4e65-c51e-c05ee8d8e4e3"
      },
      "execution_count": null,
      "outputs": [
        {
          "output_type": "stream",
          "name": "stdout",
          "text": [
            "請輸入一個正整數n:6\n",
            "6!=720\n"
          ]
        }
      ]
    },
    {
      "cell_type": "markdown",
      "source": [
        "1. 0~50奇偶數和"
      ],
      "metadata": {
        "id": "93S-xJzjflwI"
      }
    },
    {
      "cell_type": "code",
      "source": [
        "sum1 = 0\n",
        "sum2 = 0\n",
        "x = 0\n",
        "y = 0\n",
        "while x <= 50 and y <= 50 :\n",
        "  if x % 2 == 0:\n",
        "    sum1 +=  x\n",
        "  x = x + 1\n",
        "  if y % 2 == 1:\n",
        "    sum2 +=  y\n",
        "  y = y + 1\n",
        "print(\"0~50的偶數總和:\",sum1)\n",
        "print(\"0~50的奇數總和:\",sum2)"
      ],
      "metadata": {
        "colab": {
          "base_uri": "https://localhost:8080/"
        },
        "id": "1h4iWZtBfS1-",
        "outputId": "2c7b10d2-cc71-4f6e-a383-a5202db7e18d"
      },
      "execution_count": null,
      "outputs": [
        {
          "output_type": "stream",
          "name": "stdout",
          "text": [
            "0~50的偶數總和: 650\n",
            "0~50的奇數總和: 625\n"
          ]
        }
      ]
    },
    {
      "cell_type": "markdown",
      "source": [
        "2. 倒三角形"
      ],
      "metadata": {
        "id": "8RJ0zjazteG0"
      }
    },
    {
      "cell_type": "code",
      "source": [
        "n = int(input(\"請輸入一個正整數:\"))\n",
        "a = 1\n",
        "while a <= n:\n",
        "  print(\"*\" * (n-a+1))\n",
        "  a += 1"
      ],
      "metadata": {
        "colab": {
          "base_uri": "https://localhost:8080/"
        },
        "id": "r8KxiYx6geJD",
        "outputId": "442e60d5-bcc0-4a36-9879-2bc1f8c862d3"
      },
      "execution_count": null,
      "outputs": [
        {
          "output_type": "stream",
          "name": "stdout",
          "text": [
            "請輸入一個正整數:7\n",
            "*******\n",
            "******\n",
            "*****\n",
            "****\n",
            "***\n",
            "**\n",
            "*\n"
          ]
        }
      ]
    },
    {
      "cell_type": "markdown",
      "source": [
        "3. 3 and 7 在100內的和"
      ],
      "metadata": {
        "id": "07fzDS_rtk3H"
      }
    },
    {
      "cell_type": "code",
      "source": [
        "total1 = 0\n",
        "total2 = 0\n",
        "x = 0\n",
        "y = 0\n",
        "while x <= 100:\n",
        "  if(x % 3 == 0):\n",
        "    total1 += x\n",
        "  x += 1\n",
        "while y <= 100:\n",
        "  if(y % 7 == 0):\n",
        "    total2 += y\n",
        "  y += 1\n",
        "print(\"在100之內,3跟7的倍數總和為:\",total1+total2)"
      ],
      "metadata": {
        "colab": {
          "base_uri": "https://localhost:8080/"
        },
        "id": "kZSqYAbrtqDd",
        "outputId": "58f24d03-2e04-482e-897f-f1db82906144"
      },
      "execution_count": null,
      "outputs": [
        {
          "output_type": "stream",
          "name": "stdout",
          "text": [
            "在100之內,3跟7的倍數總和為: 2418\n"
          ]
        }
      ]
    },
    {
      "cell_type": "markdown",
      "source": [
        "4. n的因數以及n是否為質數"
      ],
      "metadata": {
        "id": "z34V26QqtwUv"
      }
    },
    {
      "cell_type": "code",
      "source": [
        "x = int(input(\"請輸入一個正整數:\"))\n",
        "a = 1\n",
        "print(x,\"的因數有:\",end=\" \")\n",
        "while a <= x :\n",
        "  if(x % a == 0):\n",
        "    print(a, end=\" \")\n",
        "  a += 1\n",
        "a = 2\n",
        "while(a < x):\n",
        "  if (x % a == 0):\n",
        "    print(\"\")\n",
        "    print(x,\"不為質數\")\n",
        "    break\n",
        "  a += 1\n",
        "if(a == x):\n",
        "  print(\"\")\n",
        "  print(x,\"為質數\")"
      ],
      "metadata": {
        "id": "qxyBSKSCt2yU",
        "outputId": "2ea11b2a-b302-440c-c07e-5125db4d2afb",
        "colab": {
          "base_uri": "https://localhost:8080/"
        }
      },
      "execution_count": 1,
      "outputs": [
        {
          "output_type": "stream",
          "name": "stdout",
          "text": [
            "請輸入一個正整數:12\n",
            "12 的因數有: 1 2 3 4 6 12 \n",
            "12 不為質數\n"
          ]
        }
      ]
    },
    {
      "cell_type": "code",
      "source": [
        ""
      ],
      "metadata": {
        "id": "s_ZH2DeKlZU6"
      },
      "execution_count": null,
      "outputs": []
    }
  ]
}